{
 "cells": [
  {
   "cell_type": "code",
   "execution_count": 10,
   "metadata": {},
   "outputs": [],
   "source": [
    "import pandas as pd\n",
    "import matplotlib.pyplot as plt\n",
    "import numpy as np"
   ]
  },
  {
   "cell_type": "code",
   "execution_count": 11,
   "metadata": {},
   "outputs": [],
   "source": [
    "data=pd.read_csv('books.csv')"
   ]
  },
  {
   "cell_type": "code",
   "execution_count": 12,
   "metadata": {},
   "outputs": [
    {
     "name": "stdout",
     "output_type": "stream",
     "text": [
      "The number of books without an original title is: 36\n"
     ]
    }
   ],
   "source": [
    "books_without_original_title = data['original_title'].isnull().sum()\n",
    "print(f'Number of books without an original title: {books_without_original_title}')\n"
   ]
  },
  {
   "cell_type": "code",
   "execution_count": 13,
   "metadata": {},
   "outputs": [],
   "source": [
    "book_tags = pd.read_csv('book_tags.csv')\n",
    "ratings = pd.read_csv('ratings.csv')"
   ]
  },
  {
   "cell_type": "code",
   "execution_count": 14,
   "metadata": {},
   "outputs": [
    {
     "name": "stdout",
     "output_type": "stream",
     "text": [
      "The number of unique books after cleaning: 363\n"
     ]
    }
   ],
   "source": [
    "books_cleaned = data.dropna(subset=['original_title'])\n",
    "\n",
    "\n",
    "books_ids = books_cleaned['book_id'].unique()\n",
    "book_tags_cleaned = book_tags[book_tags['goodreads_book_id'].isin(books_ids)]\n",
    "ratings_cleaned = ratings[ratings['book_id'].isin(books_ids)]\n",
    "\n",
    "\n",
    "unique_books = len(books_cleaned['book_id'].unique())\n",
    "\n",
    "print(f'Number of unique books after cleaning: {unique_books}')\n"
   ]
  },
  {
   "cell_type": "code",
   "execution_count": 15,
   "metadata": {},
   "outputs": [
    {
     "name": "stdout",
     "output_type": "stream",
     "text": [
      "The number of unique users in the ratings dataset: 40836\n"
     ]
    }
   ],
   "source": [
    "ratings = pd.read_csv('ratings.csv')\n",
    "\n",
    "unique_users = ratings['user_id'].nunique()\n",
    "\n",
    "print(f'Number of unique users in the ratings dataset: {unique_users}')"
   ]
  },
  {
   "cell_type": "code",
   "execution_count": 16,
   "metadata": {},
   "outputs": [
    {
     "name": "stdout",
     "output_type": "stream",
     "text": [
      "The number of unique tags in the book_tags dataset: 3651\n"
     ]
    }
   ],
   "source": [
    "book_tags = pd.read_csv('book_tags.csv')\n",
    "unique_tags = book_tags['tag_id'].nunique()\n",
    "print(f'Number of unique tags in the book_tags dataset: {unique_tags}')\n"
   ]
  },
  {
   "cell_type": "code",
   "execution_count": 17,
   "metadata": {},
   "outputs": [
    {
     "name": "stdout",
     "output_type": "stream",
     "text": [
      "Tag_id 4600 is the most frequently used, mapped with the highest number of books.\n"
     ]
    }
   ],
   "source": [
    "book_tags = pd.read_csv('book_tags.csv')\n",
    "most_frequent_tag = book_tags['tag_id'].value_counts().idxmax()\n",
    "print(f'Tag_id {most_frequent_tag} is the most frequently used, mapped with the highest number of books.')\n"
   ]
  },
  {
   "cell_type": "code",
   "execution_count": 18,
   "metadata": {},
   "outputs": [
    {
     "name": "stdout",
     "output_type": "stream",
     "text": [
      "The book with the most counts of tags is: Beyond Band of Brothers: The War Memoirs of Major Dick Winters\n"
     ]
    }
   ],
   "source": [
    "ook_tags = pd.read_csv('book_tags.csv')\n",
    "data = pd.read_csv('books.csv')\n",
    "merged_data = pd.merge(book_tags, data, left_on='goodreads_book_id', right_on='book_id')\n",
    "most_tagged_book = merged_data.groupby('title')['count'].sum().idxmax()\n",
    "print(f'The book with the most counts of tags: {most_tagged_book}')"
   ]
  }
 ],
 "metadata": {
  "kernelspec": {
   "display_name": "Python 3",
   "language": "python",
   "name": "python3"
  },
  "language_info": {
   "codemirror_mode": {
    "name": "ipython",
    "version": 3
   },
   "file_extension": ".py",
   "mimetype": "text/x-python",
   "name": "python",
   "nbconvert_exporter": "python",
   "pygments_lexer": "ipython3",
   "version": "3.10.1"
  }
 },
 "nbformat": 4,
 "nbformat_minor": 2
}
